{
 "cells": [
  {
   "cell_type": "code",
   "execution_count": 29,
   "metadata": {},
   "outputs": [],
   "source": [
    "import os\n",
    "import torch\n",
    "import torchvision\n",
    "import numpy as np\n",
    "import torch.nn as nn\n",
    "from torchvision import transforms\n",
    "from torchvision.utils import save_image\n",
    "from torch.optim import Adam\n",
    "from torchvision.utils import make_grid\n",
    "from torch.optim import RMSprop"
   ]
  },
  {
   "cell_type": "code",
   "execution_count": 2,
   "metadata": {},
   "outputs": [],
   "source": [
    "# Device configuration\n",
    "device = torch.device('cuda' if torch.cuda.is_available() else 'cpu')\n"
   ]
  },
  {
   "cell_type": "code",
   "execution_count": 3,
   "metadata": {},
   "outputs": [],
   "source": [
    "'''\n",
    "https://zhuanlan.zhihu.com/p/25071913\n",
    "WGAN modified of DCGAN in:\n",
    "1. remove sigmoid in the last layer of discriminator(classification -> regression)                                       \n",
    "# 回归问题,而不是二分类概率\n",
    "2. no log Loss (Wasserstein distance)\n",
    "3. clip param norm to c (Wasserstein distance and Lipschitz continuity)\n",
    "4. No momentum-based optimizer, use RMSProp，SGD instead\n",
    "\n",
    "explanation of GAN：\n",
    "collapse mode ->KL diverse\n",
    "digit unstability-> comflict between KL Divergence and JS Divergence\n",
    "'''\n",
    "\n",
    "class Config:\n",
    "    lr = 0.00005\n",
    "    nz = 100 # noise dimension\n",
    "    image_size = 64\n",
    "    image_size2 = 64\n",
    "    nc = 3 # chanel of img \n",
    "    ngf = 64 # generate channel\n",
    "    ndf = 64 # discriminative channel\n",
    "    beta1 = 0.5\n",
    "    batch_size = 32\n",
    "    max_epoch = 50 # =1 when debug\n",
    "    workers = 2\n",
    "    gpu = True # use gpu or not\n",
    "    clamp_num=0.01# WGAN clip gradient\n",
    "    \n",
    "opt=Config()"
   ]
  },
  {
   "cell_type": "code",
   "execution_count": 4,
   "metadata": {},
   "outputs": [],
   "source": [
    "# data preprocess\n",
    "transform=transforms.Compose([\n",
    "                transforms.Resize(opt.image_size) ,\n",
    "                transforms.ToTensor(),\n",
    "                transforms.Normalize([0.5]*3,[0.5]*3)\n",
    "                ])"
   ]
  },
  {
   "cell_type": "code",
   "execution_count": 8,
   "metadata": {},
   "outputs": [
    {
     "name": "stdout",
     "output_type": "stream",
     "text": [
      "Files already downloaded and verified\n"
     ]
    }
   ],
   "source": [
    "dataset=torchvision.datasets.CIFAR10(root='./data/',\n",
    "                                    transform=transform,\n",
    "                                    download=True)\n"
   ]
  },
  {
   "cell_type": "code",
   "execution_count": 10,
   "metadata": {},
   "outputs": [],
   "source": [
    "# dataloader with multiprocessing\n",
    "dataloader=torch.utils.data.DataLoader(dataset,\n",
    "                                       opt.batch_size,\n",
    "                                       shuffle = True,\n",
    "                                       num_workers=opt.workers)"
   ]
  },
  {
   "cell_type": "code",
   "execution_count": 15,
   "metadata": {},
   "outputs": [
    {
     "name": "stdout",
     "output_type": "stream",
     "text": [
      "\n"
     ]
    }
   ],
   "source": [
    "G = nn.Sequential(\n",
    "            nn.ConvTranspose2d(opt.nz,opt.ngf*8,4,1,0,bias=False),\n",
    "            nn.BatchNorm2d(opt.ngf*8),\n",
    "            nn.ReLU(True),\n",
    "            \n",
    "            nn.ConvTranspose2d(opt.ngf*8,opt.ngf*4,4,2,1,bias=False),\n",
    "            nn.BatchNorm2d(opt.ngf*4),\n",
    "            nn.ReLU(True),\n",
    "            \n",
    "            nn.ConvTranspose2d(opt.ngf*4,opt.ngf*2,4,2,1,bias=False),\n",
    "            nn.BatchNorm2d(opt.ngf*2),\n",
    "            nn.ReLU(True),\n",
    "            \n",
    "            nn.ConvTranspose2d(opt.ngf*2,opt.ngf,4,2,1,bias=False),\n",
    "            nn.BatchNorm2d(opt.ngf),\n",
    "            nn.ReLU(True),\n",
    "            \n",
    "            nn.ConvTranspose2d(opt.ngf,opt.nc,4,2,1,bias=False),\n",
    "            nn.Tanh()\n",
    "        )\n"
   ]
  },
  {
   "cell_type": "code",
   "execution_count": null,
   "metadata": {},
   "outputs": [],
   "source": [
    "D = nn.Sequential(\n",
    "            nn.Conv2d(opt.nc,opt.ndf,4,2,1,bias=False),\n",
    "            nn.LeakyReLU(0.2,inplace=True),\n",
    "            \n",
    "            nn.Conv2d(opt.ndf,opt.ndf*2,4,2,1,bias=False),\n",
    "            nn.BatchNorm2d(opt.ndf*2),\n",
    "            nn.LeakyReLU(0.2,inplace=True),\n",
    "            \n",
    "            nn.Conv2d(opt.ndf*2,opt.ndf*4,4,2,1,bias=False),\n",
    "            nn.BatchNorm2d(opt.ndf*4),\n",
    "            nn.LeakyReLU(0.2,inplace=True),\n",
    "            \n",
    "            nn.Conv2d(opt.ndf*4,opt.ndf*8,4,2,1,bias=False),\n",
    "            nn.BatchNorm2d(opt.ndf*8),\n",
    "            nn.LeakyReLU(0.2,inplace=True),\n",
    "            \n",
    "            nn.Conv2d(opt.ndf*8,1,4,1,0,bias=False),\n",
    "            # Modification 1: remove sigmoid\n",
    "            # nn.Sigmoid()\n",
    "        )\n"
   ]
  },
  {
   "cell_type": "code",
   "execution_count": null,
   "metadata": {},
   "outputs": [],
   "source": [
    "def weight_init(m):\n",
    "    # weight_initialization: important for wgan\n",
    "    class_name=m.__class__.__name__\n",
    "    if class_name.find('Conv')!=-1:\n",
    "        m.weight.data.normal_(0,0.02)\n",
    "    elif class_name.find('Norm')!=-1:\n",
    "        m.weight.data.normal_(1.0,0.02)\n",
    "#     else:print(class_name)\n",
    "\n",
    "D.apply(weight_init)\n",
    "G.apply(weight_init)\n",
    "print()"
   ]
  },
  {
   "cell_type": "code",
   "execution_count": 31,
   "metadata": {},
   "outputs": [],
   "source": [
    "# modification 2: Use RMSprop instead of Adam\n",
    "# optimizer\n",
    "optimizerD = RMSprop(D.parameters(),lr=opt.lr ) \n",
    "optimizerG = RMSprop(G.parameters(),lr=opt.lr )  \n",
    "\n",
    "# modification3: No Log in loss\n",
    "# criterion\n",
    "# criterion = nn.BCELoss()\n",
    "\n",
    "fix_noise = torch.FloatTensor(opt.batch_size,opt.nz,1,1).normal_(0,1)\n",
    "if opt.gpu:\n",
    "    fix_noise = fix_noise.to(device)\n",
    "    D.to(device)\n",
    "    G.to(device)"
   ]
  },
  {
   "cell_type": "code",
   "execution_count": 32,
   "metadata": {},
   "outputs": [
    {
     "ename": "KeyboardInterrupt",
     "evalue": "",
     "output_type": "error",
     "traceback": [
      "\u001b[0;31m---------------------------------------------------------------------------\u001b[0m",
      "\u001b[0;31mKeyboardInterrupt\u001b[0m                         Traceback (most recent call last)",
      "\u001b[0;32m<ipython-input-32-db53f09f9bad>\u001b[0m in \u001b[0;36m<module>\u001b[0;34m\u001b[0m\n\u001b[1;32m     27\u001b[0m         \u001b[0;31m## train netd with fake img\u001b[0m\u001b[0;34m\u001b[0m\u001b[0;34m\u001b[0m\u001b[0;34m\u001b[0m\u001b[0m\n\u001b[1;32m     28\u001b[0m         \u001b[0mfake_pic\u001b[0m\u001b[0;34m=\u001b[0m\u001b[0mG\u001b[0m\u001b[0;34m(\u001b[0m\u001b[0mnoise\u001b[0m\u001b[0;34m)\u001b[0m\u001b[0;34m.\u001b[0m\u001b[0mdetach\u001b[0m\u001b[0;34m(\u001b[0m\u001b[0;34m)\u001b[0m\u001b[0;34m\u001b[0m\u001b[0;34m\u001b[0m\u001b[0m\n\u001b[0;32m---> 29\u001b[0;31m         \u001b[0moutput2\u001b[0m\u001b[0;34m=\u001b[0m\u001b[0mD\u001b[0m\u001b[0;34m(\u001b[0m\u001b[0mfake_pic\u001b[0m\u001b[0;34m)\u001b[0m\u001b[0;34m\u001b[0m\u001b[0;34m\u001b[0m\u001b[0m\n\u001b[0m\u001b[1;32m     30\u001b[0m         \u001b[0moutput2\u001b[0m\u001b[0;34m.\u001b[0m\u001b[0mbackward\u001b[0m\u001b[0;34m(\u001b[0m\u001b[0mmone\u001b[0m\u001b[0;34m)\u001b[0m\u001b[0;34m\u001b[0m\u001b[0;34m\u001b[0m\u001b[0m\n\u001b[1;32m     31\u001b[0m         \u001b[0moptimizerD\u001b[0m\u001b[0;34m.\u001b[0m\u001b[0mstep\u001b[0m\u001b[0;34m(\u001b[0m\u001b[0;34m)\u001b[0m\u001b[0;34m\u001b[0m\u001b[0;34m\u001b[0m\u001b[0m\n",
      "\u001b[0;32m~/anaconda3/lib/python3.7/site-packages/torch/nn/modules/module.py\u001b[0m in \u001b[0;36m__call__\u001b[0;34m(self, *input, **kwargs)\u001b[0m\n\u001b[1;32m    487\u001b[0m             \u001b[0mresult\u001b[0m \u001b[0;34m=\u001b[0m \u001b[0mself\u001b[0m\u001b[0;34m.\u001b[0m\u001b[0m_slow_forward\u001b[0m\u001b[0;34m(\u001b[0m\u001b[0;34m*\u001b[0m\u001b[0minput\u001b[0m\u001b[0;34m,\u001b[0m \u001b[0;34m**\u001b[0m\u001b[0mkwargs\u001b[0m\u001b[0;34m)\u001b[0m\u001b[0;34m\u001b[0m\u001b[0;34m\u001b[0m\u001b[0m\n\u001b[1;32m    488\u001b[0m         \u001b[0;32melse\u001b[0m\u001b[0;34m:\u001b[0m\u001b[0;34m\u001b[0m\u001b[0;34m\u001b[0m\u001b[0m\n\u001b[0;32m--> 489\u001b[0;31m             \u001b[0mresult\u001b[0m \u001b[0;34m=\u001b[0m \u001b[0mself\u001b[0m\u001b[0;34m.\u001b[0m\u001b[0mforward\u001b[0m\u001b[0;34m(\u001b[0m\u001b[0;34m*\u001b[0m\u001b[0minput\u001b[0m\u001b[0;34m,\u001b[0m \u001b[0;34m**\u001b[0m\u001b[0mkwargs\u001b[0m\u001b[0;34m)\u001b[0m\u001b[0;34m\u001b[0m\u001b[0;34m\u001b[0m\u001b[0m\n\u001b[0m\u001b[1;32m    490\u001b[0m         \u001b[0;32mfor\u001b[0m \u001b[0mhook\u001b[0m \u001b[0;32min\u001b[0m \u001b[0mself\u001b[0m\u001b[0;34m.\u001b[0m\u001b[0m_forward_hooks\u001b[0m\u001b[0;34m.\u001b[0m\u001b[0mvalues\u001b[0m\u001b[0;34m(\u001b[0m\u001b[0;34m)\u001b[0m\u001b[0;34m:\u001b[0m\u001b[0;34m\u001b[0m\u001b[0;34m\u001b[0m\u001b[0m\n\u001b[1;32m    491\u001b[0m             \u001b[0mhook_result\u001b[0m \u001b[0;34m=\u001b[0m \u001b[0mhook\u001b[0m\u001b[0;34m(\u001b[0m\u001b[0mself\u001b[0m\u001b[0;34m,\u001b[0m \u001b[0minput\u001b[0m\u001b[0;34m,\u001b[0m \u001b[0mresult\u001b[0m\u001b[0;34m)\u001b[0m\u001b[0;34m\u001b[0m\u001b[0;34m\u001b[0m\u001b[0m\n",
      "\u001b[0;32m~/anaconda3/lib/python3.7/site-packages/torch/nn/modules/container.py\u001b[0m in \u001b[0;36mforward\u001b[0;34m(self, input)\u001b[0m\n\u001b[1;32m     90\u001b[0m     \u001b[0;32mdef\u001b[0m \u001b[0mforward\u001b[0m\u001b[0;34m(\u001b[0m\u001b[0mself\u001b[0m\u001b[0;34m,\u001b[0m \u001b[0minput\u001b[0m\u001b[0;34m)\u001b[0m\u001b[0;34m:\u001b[0m\u001b[0;34m\u001b[0m\u001b[0;34m\u001b[0m\u001b[0m\n\u001b[1;32m     91\u001b[0m         \u001b[0;32mfor\u001b[0m \u001b[0mmodule\u001b[0m \u001b[0;32min\u001b[0m \u001b[0mself\u001b[0m\u001b[0;34m.\u001b[0m\u001b[0m_modules\u001b[0m\u001b[0;34m.\u001b[0m\u001b[0mvalues\u001b[0m\u001b[0;34m(\u001b[0m\u001b[0;34m)\u001b[0m\u001b[0;34m:\u001b[0m\u001b[0;34m\u001b[0m\u001b[0;34m\u001b[0m\u001b[0m\n\u001b[0;32m---> 92\u001b[0;31m             \u001b[0minput\u001b[0m \u001b[0;34m=\u001b[0m \u001b[0mmodule\u001b[0m\u001b[0;34m(\u001b[0m\u001b[0minput\u001b[0m\u001b[0;34m)\u001b[0m\u001b[0;34m\u001b[0m\u001b[0;34m\u001b[0m\u001b[0m\n\u001b[0m\u001b[1;32m     93\u001b[0m         \u001b[0;32mreturn\u001b[0m \u001b[0minput\u001b[0m\u001b[0;34m\u001b[0m\u001b[0;34m\u001b[0m\u001b[0m\n\u001b[1;32m     94\u001b[0m \u001b[0;34m\u001b[0m\u001b[0m\n",
      "\u001b[0;32m~/anaconda3/lib/python3.7/site-packages/torch/nn/modules/module.py\u001b[0m in \u001b[0;36m__call__\u001b[0;34m(self, *input, **kwargs)\u001b[0m\n\u001b[1;32m    487\u001b[0m             \u001b[0mresult\u001b[0m \u001b[0;34m=\u001b[0m \u001b[0mself\u001b[0m\u001b[0;34m.\u001b[0m\u001b[0m_slow_forward\u001b[0m\u001b[0;34m(\u001b[0m\u001b[0;34m*\u001b[0m\u001b[0minput\u001b[0m\u001b[0;34m,\u001b[0m \u001b[0;34m**\u001b[0m\u001b[0mkwargs\u001b[0m\u001b[0;34m)\u001b[0m\u001b[0;34m\u001b[0m\u001b[0;34m\u001b[0m\u001b[0m\n\u001b[1;32m    488\u001b[0m         \u001b[0;32melse\u001b[0m\u001b[0;34m:\u001b[0m\u001b[0;34m\u001b[0m\u001b[0;34m\u001b[0m\u001b[0m\n\u001b[0;32m--> 489\u001b[0;31m             \u001b[0mresult\u001b[0m \u001b[0;34m=\u001b[0m \u001b[0mself\u001b[0m\u001b[0;34m.\u001b[0m\u001b[0mforward\u001b[0m\u001b[0;34m(\u001b[0m\u001b[0;34m*\u001b[0m\u001b[0minput\u001b[0m\u001b[0;34m,\u001b[0m \u001b[0;34m**\u001b[0m\u001b[0mkwargs\u001b[0m\u001b[0;34m)\u001b[0m\u001b[0;34m\u001b[0m\u001b[0;34m\u001b[0m\u001b[0m\n\u001b[0m\u001b[1;32m    490\u001b[0m         \u001b[0;32mfor\u001b[0m \u001b[0mhook\u001b[0m \u001b[0;32min\u001b[0m \u001b[0mself\u001b[0m\u001b[0;34m.\u001b[0m\u001b[0m_forward_hooks\u001b[0m\u001b[0;34m.\u001b[0m\u001b[0mvalues\u001b[0m\u001b[0;34m(\u001b[0m\u001b[0;34m)\u001b[0m\u001b[0;34m:\u001b[0m\u001b[0;34m\u001b[0m\u001b[0;34m\u001b[0m\u001b[0m\n\u001b[1;32m    491\u001b[0m             \u001b[0mhook_result\u001b[0m \u001b[0;34m=\u001b[0m \u001b[0mhook\u001b[0m\u001b[0;34m(\u001b[0m\u001b[0mself\u001b[0m\u001b[0;34m,\u001b[0m \u001b[0minput\u001b[0m\u001b[0;34m,\u001b[0m \u001b[0mresult\u001b[0m\u001b[0;34m)\u001b[0m\u001b[0;34m\u001b[0m\u001b[0;34m\u001b[0m\u001b[0m\n",
      "\u001b[0;32m~/anaconda3/lib/python3.7/site-packages/torch/nn/modules/conv.py\u001b[0m in \u001b[0;36mforward\u001b[0;34m(self, input)\u001b[0m\n\u001b[1;32m    318\u001b[0m     \u001b[0;32mdef\u001b[0m \u001b[0mforward\u001b[0m\u001b[0;34m(\u001b[0m\u001b[0mself\u001b[0m\u001b[0;34m,\u001b[0m \u001b[0minput\u001b[0m\u001b[0;34m)\u001b[0m\u001b[0;34m:\u001b[0m\u001b[0;34m\u001b[0m\u001b[0;34m\u001b[0m\u001b[0m\n\u001b[1;32m    319\u001b[0m         return F.conv2d(input, self.weight, self.bias, self.stride,\n\u001b[0;32m--> 320\u001b[0;31m                         self.padding, self.dilation, self.groups)\n\u001b[0m\u001b[1;32m    321\u001b[0m \u001b[0;34m\u001b[0m\u001b[0m\n\u001b[1;32m    322\u001b[0m \u001b[0;34m\u001b[0m\u001b[0m\n",
      "\u001b[0;31mKeyboardInterrupt\u001b[0m: "
     ]
    }
   ],
   "source": [
    "# begin training\n",
    "one=torch.ones(32,1,1,1).float()\n",
    "mone=-1*one\n",
    "\n",
    "for epoch in range(opt.max_epoch):\n",
    "    for ii, data in enumerate(dataloader,0):\n",
    "        real,_=data\n",
    "        input = torch.Tensor(real)\n",
    "        noise = torch.randn(input.size(0),opt.nz,1,1)\n",
    "        noise = torch.Tensor(noise)\n",
    "        \n",
    "        if opt.gpu:\n",
    "            one = one.to(device)\n",
    "            mone = mone.to(device)\n",
    "            noise = noise.to(device)\n",
    "            input = input.to(device)\n",
    "\n",
    "        # modification: clip param for discriminator\n",
    "        for parm in D.parameters():\n",
    "                parm.data.clamp_(-opt.clamp_num,opt.clamp_num)\n",
    "        \n",
    "        # ----- train netd -----\n",
    "        D.zero_grad()\n",
    "        ## train netd with real img\n",
    "        output=D(input)\n",
    "        output.backward(one)\n",
    "        ## train netd with fake img\n",
    "        fake_pic=G(noise).detach()\n",
    "        output2=D(fake_pic)\n",
    "        output2.backward(mone)\n",
    "        optimizerD.step()\n",
    "\n",
    "        \n",
    "        \n",
    "        # ------ train netg -------\n",
    "        # train netd more: because the better netd is,\n",
    "        # the better netg will be\n",
    "        if (ii+1)%5 ==0:\n",
    "            G.zero_grad()\n",
    "            noise.data.normal_(0,1)\n",
    "            fake_pic=G(noise)\n",
    "            output=D(fake_pic)\n",
    "            output.backward(one)\n",
    "            optimizerG.step()\n",
    "            if ii%100==0:pass\n",
    "    fake_u=G(fix_noise)\n",
    "    \n",
    "    imgs = make_grid(fake_u.data*0.5+0.5).cpu() # CHW\n",
    "    plt.imshow(imgs.permute(1,2,0).numpy()) # HWC\n",
    "    plt.show()"
   ]
  },
  {
   "cell_type": "code",
   "execution_count": null,
   "metadata": {},
   "outputs": [],
   "source": [
    "noise = torch.randn(64,opt.nz,1,1).cuda()\n",
    "noise = torch.Tensor(noise)\n",
    "fake_u=G(noise)\n",
    "imgs = make_grid(fake_u.data*0.5+0.5).cpu() # CHW\n",
    "plt.figure(figsize=(5,5))\n",
    "plt.imshow(imgs.permute(1,2,0).numpy()) # HWC\n",
    "plt.show()"
   ]
  }
 ],
 "metadata": {
  "kernelspec": {
   "display_name": "Python 3",
   "language": "python",
   "name": "python3"
  },
  "language_info": {
   "codemirror_mode": {
    "name": "ipython",
    "version": 3
   },
   "file_extension": ".py",
   "mimetype": "text/x-python",
   "name": "python",
   "nbconvert_exporter": "python",
   "pygments_lexer": "ipython3",
   "version": "3.7.1"
  }
 },
 "nbformat": 4,
 "nbformat_minor": 2
}
