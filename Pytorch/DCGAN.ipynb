{
 "cells": [
  {
   "cell_type": "code",
   "execution_count": 29,
   "metadata": {},
   "outputs": [],
   "source": [
    "import os\n",
    "import torch\n",
    "import torchvision\n",
    "import torch.nn as nn\n",
    "from torchvision import transforms\n",
    "from torchvision.utils import save_image\n",
    "from torch.optim import Adam\n",
    "from torchvision.utils import make_grid\n"
   ]
  },
  {
   "cell_type": "code",
   "execution_count": 30,
   "metadata": {},
   "outputs": [],
   "source": [
    "# Device configuration\n",
    "device = torch.device('cuda' if torch.cuda.is_available() else 'cpu')\n"
   ]
  },
  {
   "cell_type": "code",
   "execution_count": 31,
   "metadata": {},
   "outputs": [],
   "source": [
    "class Config:\n",
    "    lr = 0.0002\n",
    "    nz = 100 # noise dimension\n",
    "    image_size = 64\n",
    "    image_size2 = 64\n",
    "    nc = 3 # chanel of img \n",
    "    ngf = 64 # generate channel\n",
    "    ndf = 64 # discriminative channel\n",
    "    beta1 = 0.5\n",
    "    batch_size = 32\n",
    "    max_epoch = 10 # =1 when debug\n",
    "    workers = 2\n",
    "    gpu = True # use gpu or not\n",
    "    \n",
    "opt=Config()"
   ]
  },
  {
   "cell_type": "code",
   "execution_count": 32,
   "metadata": {},
   "outputs": [],
   "source": [
    "# Create a directory if not exists\n",
    "if not os.path.exists(sample_dir):\n",
    "    os.makedirs(sample_dir)\n"
   ]
  },
  {
   "cell_type": "code",
   "execution_count": 33,
   "metadata": {},
   "outputs": [],
   "source": [
    "# data preprocess\n",
    "transform=transforms.Compose([\n",
    "                transforms.Resize(opt.image_size) ,\n",
    "                transforms.ToTensor(),\n",
    "                transforms.Normalize([0.5]*3,[0.5]*3)\n",
    "                ])\n"
   ]
  },
  {
   "cell_type": "code",
   "execution_count": 41,
   "metadata": {},
   "outputs": [
    {
     "name": "stdout",
     "output_type": "stream",
     "text": [
      "Files already downloaded and verified\n"
     ]
    }
   ],
   "source": [
    "# MNIST dataset\n",
    "CIFAR10 = torchvision.datasets.CIFAR10(root='./data/',\n",
    "                                    train=True,\n",
    "                                    transform=transform,\n",
    "                                    download=True)\n"
   ]
  },
  {
   "cell_type": "code",
   "execution_count": 42,
   "metadata": {},
   "outputs": [],
   "source": [
    "# MNIST dataset\n",
    "# Data loader\n",
    "data_loader = torch.utils.data.DataLoader(dataset=CIFAR10,\n",
    "                                          batch_size=batch_size, \n",
    "                                          shuffle=True)"
   ]
  },
  {
   "cell_type": "code",
   "execution_count": 43,
   "metadata": {},
   "outputs": [],
   "source": [
    "G = nn.Sequential(\n",
    "    nn.ConvTranspose2d(opt.nz,opt.ngf*8,4,1,0,bias=False),\n",
    "    nn.BatchNorm2d(opt.ngf*8),\n",
    "    nn.ReLU(True),\n",
    "\n",
    "    nn.ConvTranspose2d(opt.ngf*8,opt.ngf*4,4,2,1,bias=False),\n",
    "    nn.BatchNorm2d(opt.ngf*4),\n",
    "    nn.ReLU(True),\n",
    "\n",
    "    nn.ConvTranspose2d(opt.ngf*4,opt.ngf*2,4,2,1,bias=False),\n",
    "    nn.BatchNorm2d(opt.ngf*2),\n",
    "    nn.ReLU(True),\n",
    "\n",
    "    nn.ConvTranspose2d(opt.ngf*2,opt.ngf,4,2,1,bias=False),\n",
    "    nn.BatchNorm2d(opt.ngf),\n",
    "    nn.ReLU(True),\n",
    "\n",
    "    nn.ConvTranspose2d(opt.ngf,opt.nc,4,2,1,bias=False),\n",
    "    nn.Tanh()\n",
    ")\n"
   ]
  },
  {
   "cell_type": "code",
   "execution_count": null,
   "metadata": {},
   "outputs": [],
   "source": [
    "D = nn.Sequential(\n",
    "    nn.Conv2d(opt.nc,opt.ndf,4,2,1,bias=False),\n",
    "    nn.LeakyReLU(0.2,inplace=True),\n",
    "\n",
    "    nn.Conv2d(opt.ndf,opt.ndf*2,4,2,1,bias=False),\n",
    "    nn.BatchNorm2d(opt.ndf*2),\n",
    "    nn.LeakyReLU(0.2,inplace=True),\n",
    "\n",
    "    nn.Conv2d(opt.ndf*2,opt.ndf*4,4,2,1,bias=False),\n",
    "    nn.BatchNorm2d(opt.ndf*4),\n",
    "    nn.LeakyReLU(0.2,inplace=True),\n",
    "\n",
    "    nn.Conv2d(opt.ndf*4,opt.ndf*8,4,2,1,bias=False),\n",
    "    nn.BatchNorm2d(opt.ndf*8),\n",
    "    nn.LeakyReLU(0.2,inplace=True),\n",
    "\n",
    "    nn.Conv2d(opt.ndf*8,1,4,1,0,bias=False),\n",
    "    nn.Sigmoid()\n",
    ")"
   ]
  },
  {
   "cell_type": "code",
   "execution_count": 44,
   "metadata": {},
   "outputs": [],
   "source": [
    "# optimizer\n",
    "optimizerD = Adam(netd.parameters(),lr=opt.lr,betas=(opt.beta1,0.999))\n",
    "optimizerG = Adam(netg.parameters(),lr=opt.lr,betas=(opt.beta1,0.999))\n",
    "\n",
    "# criterion\n",
    "criterion = nn.BCELoss()\n",
    "\n",
    "fix_noise = torch.FloatTensor(opt.batch_size,opt.nz,1,1).normal_(0,1)\n",
    "if opt.gpu:\n",
    "    fix_noise = fix_noise.to(device)\n",
    "    D.to(device)\n",
    "    G.to(device)\n",
    "    criterion.to(device) # it's a good habit"
   ]
  },
  {
   "cell_type": "code",
   "execution_count": 46,
   "metadata": {},
   "outputs": [
    {
     "ename": "KeyboardInterrupt",
     "evalue": "",
     "output_type": "error",
     "traceback": [
      "\u001b[0;31m---------------------------------------------------------------------------\u001b[0m",
      "\u001b[0;31mKeyboardInterrupt\u001b[0m                         Traceback (most recent call last)",
      "\u001b[0;32m<ipython-input-46-d16d6785a75b>\u001b[0m in \u001b[0;36m<module>\u001b[0;34m\u001b[0m\n\u001b[1;32m     17\u001b[0m         \u001b[0moutput\u001b[0m\u001b[0;34m=\u001b[0m\u001b[0mD\u001b[0m\u001b[0;34m(\u001b[0m\u001b[0minput\u001b[0m\u001b[0;34m)\u001b[0m\u001b[0;34m\u001b[0m\u001b[0;34m\u001b[0m\u001b[0m\n\u001b[1;32m     18\u001b[0m         \u001b[0merror_real\u001b[0m\u001b[0;34m=\u001b[0m\u001b[0mcriterion\u001b[0m\u001b[0;34m(\u001b[0m\u001b[0moutput\u001b[0m\u001b[0;34m.\u001b[0m\u001b[0msqueeze\u001b[0m\u001b[0;34m(\u001b[0m\u001b[0;34m)\u001b[0m\u001b[0;34m,\u001b[0m\u001b[0mlabel\u001b[0m\u001b[0;34m)\u001b[0m\u001b[0;34m\u001b[0m\u001b[0;34m\u001b[0m\u001b[0m\n\u001b[0;32m---> 19\u001b[0;31m         \u001b[0merror_real\u001b[0m\u001b[0;34m.\u001b[0m\u001b[0mbackward\u001b[0m\u001b[0;34m(\u001b[0m\u001b[0;34m)\u001b[0m\u001b[0;34m\u001b[0m\u001b[0;34m\u001b[0m\u001b[0m\n\u001b[0m\u001b[1;32m     20\u001b[0m         \u001b[0mD_x\u001b[0m\u001b[0;34m=\u001b[0m\u001b[0moutput\u001b[0m\u001b[0;34m.\u001b[0m\u001b[0mdata\u001b[0m\u001b[0;34m.\u001b[0m\u001b[0mmean\u001b[0m\u001b[0;34m(\u001b[0m\u001b[0;34m)\u001b[0m\u001b[0;34m\u001b[0m\u001b[0;34m\u001b[0m\u001b[0m\n\u001b[1;32m     21\u001b[0m \u001b[0;34m\u001b[0m\u001b[0m\n",
      "\u001b[0;32m~/anaconda3/lib/python3.7/site-packages/torch/tensor.py\u001b[0m in \u001b[0;36mbackward\u001b[0;34m(self, gradient, retain_graph, create_graph)\u001b[0m\n\u001b[1;32m    100\u001b[0m                 \u001b[0mproducts\u001b[0m\u001b[0;34m.\u001b[0m \u001b[0mDefaults\u001b[0m \u001b[0mto\u001b[0m\u001b[0;31m \u001b[0m\u001b[0;31m`\u001b[0m\u001b[0;31m`\u001b[0m\u001b[0;32mFalse\u001b[0m\u001b[0;31m`\u001b[0m\u001b[0;31m`\u001b[0m\u001b[0;34m.\u001b[0m\u001b[0;34m\u001b[0m\u001b[0;34m\u001b[0m\u001b[0m\n\u001b[1;32m    101\u001b[0m         \"\"\"\n\u001b[0;32m--> 102\u001b[0;31m         \u001b[0mtorch\u001b[0m\u001b[0;34m.\u001b[0m\u001b[0mautograd\u001b[0m\u001b[0;34m.\u001b[0m\u001b[0mbackward\u001b[0m\u001b[0;34m(\u001b[0m\u001b[0mself\u001b[0m\u001b[0;34m,\u001b[0m \u001b[0mgradient\u001b[0m\u001b[0;34m,\u001b[0m \u001b[0mretain_graph\u001b[0m\u001b[0;34m,\u001b[0m \u001b[0mcreate_graph\u001b[0m\u001b[0;34m)\u001b[0m\u001b[0;34m\u001b[0m\u001b[0;34m\u001b[0m\u001b[0m\n\u001b[0m\u001b[1;32m    103\u001b[0m \u001b[0;34m\u001b[0m\u001b[0m\n\u001b[1;32m    104\u001b[0m     \u001b[0;32mdef\u001b[0m \u001b[0mregister_hook\u001b[0m\u001b[0;34m(\u001b[0m\u001b[0mself\u001b[0m\u001b[0;34m,\u001b[0m \u001b[0mhook\u001b[0m\u001b[0;34m)\u001b[0m\u001b[0;34m:\u001b[0m\u001b[0;34m\u001b[0m\u001b[0;34m\u001b[0m\u001b[0m\n",
      "\u001b[0;32m~/anaconda3/lib/python3.7/site-packages/torch/autograd/__init__.py\u001b[0m in \u001b[0;36mbackward\u001b[0;34m(tensors, grad_tensors, retain_graph, create_graph, grad_variables)\u001b[0m\n\u001b[1;32m     88\u001b[0m     Variable._execution_engine.run_backward(\n\u001b[1;32m     89\u001b[0m         \u001b[0mtensors\u001b[0m\u001b[0;34m,\u001b[0m \u001b[0mgrad_tensors\u001b[0m\u001b[0;34m,\u001b[0m \u001b[0mretain_graph\u001b[0m\u001b[0;34m,\u001b[0m \u001b[0mcreate_graph\u001b[0m\u001b[0;34m,\u001b[0m\u001b[0;34m\u001b[0m\u001b[0;34m\u001b[0m\u001b[0m\n\u001b[0;32m---> 90\u001b[0;31m         allow_unreachable=True)  # allow_unreachable flag\n\u001b[0m\u001b[1;32m     91\u001b[0m \u001b[0;34m\u001b[0m\u001b[0m\n\u001b[1;32m     92\u001b[0m \u001b[0;34m\u001b[0m\u001b[0m\n",
      "\u001b[0;31mKeyboardInterrupt\u001b[0m: "
     ]
    }
   ],
   "source": [
    "for epoch in range(opt.max_epoch):\n",
    "    for ii, data in enumerate(data_loader,0):\n",
    "        real,_=data\n",
    "        input = torch.Tensor(real)\n",
    "        label = torch.ones(input.size(0))\n",
    "        noise = torch.randn(input.size(0),opt.nz,1,1)\n",
    "        noise = torch.Tensor(noise)\n",
    "        \n",
    "        if opt.gpu:\n",
    "            noise = noise.to(device)\n",
    "            input = input.to(device)\n",
    "            label = label.to(device)\n",
    "        \n",
    "        # ----- train netd -----\n",
    "        netd.zero_grad()\n",
    "        ## train netd with real img\n",
    "        output=D(input)\n",
    "        error_real=criterion(output.squeeze(),label)\n",
    "        error_real.backward()\n",
    "        D_x=output.data.mean()\n",
    "        \n",
    "        ## train netd with fake img\n",
    "        fake_pic=G(noise).detach()\n",
    "        output2=D(fake_pic)\n",
    "        label.data.fill_(0) # 0 for fake\n",
    "        error_fake=criterion(output2.squeeze(),label)\n",
    "        error_fake.backward()\n",
    "        D_x2=output2.data.mean()\n",
    "        \n",
    "        error_D=error_real+error_fake\n",
    "        optimizerD.step()\n",
    "        \n",
    "        # ------ train netg -------\n",
    "        netg.zero_grad()\n",
    "        label.data.fill_(1)\n",
    "        noise.data.normal_(0,1)\n",
    "        fake_pic=G(noise)\n",
    "        output=D(fake_pic)\n",
    "        error_G=criterion(output.squeeze(),label)\n",
    "        error_G.backward()\n",
    "        optimizerG.step()\n",
    "        D_G_z2=output.data.mean()\n",
    "        \n",
    "#         if ii%500==0:\n",
    "#             print ('{ii}/{epoch} lossD:{error_D},lossG:{error_G},{D_x2},{D_G_z2},{D_x}'.format(\n",
    "#                     ii=ii,epoch=epoch,\\\n",
    "#                     error_D=error_D.data[0],\\\n",
    "#                     error_G=error_G.data[0],\\\n",
    "#                     D_x2=D_x2,D_G_z2=D_G_z2,D_x=D_x))\n",
    "    if epoch % 2 ==0:\n",
    "        fake_u=netg(fix_noise)\n",
    "        imgs = make_grid(fake_u.data*0.5+0.5).cpu() # CHW\n",
    "        plt.imshow(imgs.permute(1,2,0).numpy()) # HWC\n",
    "        plt.show()"
   ]
  },
  {
   "cell_type": "code",
   "execution_count": null,
   "metadata": {},
   "outputs": [],
   "source": []
  },
  {
   "cell_type": "code",
   "execution_count": null,
   "metadata": {},
   "outputs": [],
   "source": []
  }
 ],
 "metadata": {
  "kernelspec": {
   "display_name": "Python 3",
   "language": "python",
   "name": "python3"
  },
  "language_info": {
   "codemirror_mode": {
    "name": "ipython",
    "version": 3
   },
   "file_extension": ".py",
   "mimetype": "text/x-python",
   "name": "python",
   "nbconvert_exporter": "python",
   "pygments_lexer": "ipython3",
   "version": "3.7.1"
  }
 },
 "nbformat": 4,
 "nbformat_minor": 2
}
