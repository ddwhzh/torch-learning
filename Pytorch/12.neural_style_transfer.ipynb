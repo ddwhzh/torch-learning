{
 "cells": [
  {
   "cell_type": "code",
   "execution_count": 2,
   "metadata": {},
   "outputs": [],
   "source": [
    "from __future__ import division\n",
    "from torchvision import models\n",
    "from torchvision import transforms\n",
    "from PIL import Image\n",
    "import argparse\n",
    "import torch\n",
    "import torchvision\n",
    "import torch.nn as nn\n",
    "import numpy as np\n",
    "\n"
   ]
  },
  {
   "cell_type": "code",
   "execution_count": null,
   "metadata": {},
   "outputs": [],
   "source": [
    "# Device configuration\n",
    "device = torch.device('cuda' if torch.cuda.is_available() else 'cpu')\n"
   ]
  },
  {
   "cell_type": "code",
   "execution_count": null,
   "metadata": {},
   "outputs": [],
   "source": [
    "def load_image(image_path, transform=None, max_size=None, shape=None):\n",
    "    \"\"\"Load an image and convert it to a torch tensor.\"\"\"\n",
    "    image = Image.open(image_path)\n",
    "    \n",
    "    if max_size:\n",
    "        scale = max_size / max(image.size)\n",
    "        size = np.array(image.size) * scale\n",
    "        image = image.resize(size.astype(int), Image.ANTIALIAS)\n",
    "    \n",
    "    if shape:\n",
    "        image = image.resize(shape, Image.LANCZOS)\n",
    "    \n",
    "    if transform:\n",
    "        image = transform(image).unsqueeze(0)\n",
    "    \n",
    "    return image.to(device)"
   ]
  },
  {
   "cell_type": "code",
   "execution_count": 3,
   "metadata": {},
   "outputs": [],
   "source": [
    "class VGGNet(nn.Module):\n",
    "    def __init__(self,select=['0', '5', '10', '19', '28'] ):\n",
    "        \"\"\"Select conv1_1 ~ conv5_1 activation maps.\"\"\"\n",
    "        super(VGGNet, self).__init__()\n",
    "        self.select = select\n",
    "        self.vgg = models.vgg19(pretrained=True).features\n",
    "        \n",
    "    def forward(self, x):\n",
    "        \"\"\"Extract multiple convolutional feature maps.\"\"\"\n",
    "        features = []\n",
    "        for name, layer in self.vgg._modules.items():\n",
    "            x = layer(x)\n",
    "            if name in self.select:\n",
    "                features.append(x)\n",
    "        return features\n"
   ]
  },
  {
   "cell_type": "code",
   "execution_count": 4,
   "metadata": {},
   "outputs": [
    {
     "name": "stdout",
     "output_type": "stream",
     "text": [
      "<class 'torchvision.transforms.transforms.Compose'>\n"
     ]
    }
   ],
   "source": [
    "# Image preprocessing\n",
    "# VGGNet was trained on ImageNet where images are normalized by mean=[0.485, 0.456, 0.406] and std=[0.229, 0.224, 0.225].\n",
    "# We use the same normalization statistics here.\n",
    "transform = transforms.Compose([\n",
    "    transforms.ToTensor(),\n",
    "    transforms.Normalize(mean=(0.485, 0.456, 0.406), \n",
    "                        std=(0.229, 0.224, 0.225))])\n",
    "print(type(transform)) "
   ]
  },
  {
   "cell_type": "code",
   "execution_count": 5,
   "metadata": {},
   "outputs": [],
   "source": [
    "class config():\n",
    "    def __init__(self,\n",
    "                lr=0.003,\n",
    "                total_step=500,\n",
    "                style_weight=100,\n",
    "                tv_weight=5e2,\n",
    "                log_step=10,\n",
    "                sample_step=50,\n",
    "                max_size=400,\n",
    "                style='png/style.png',\n",
    "                content='png/content.png'):\n",
    "        self.lr=lr\n",
    "        self.total_step=total_step\n",
    "        self.style_weight=style_weight\n",
    "        self.log_step=log_step\n",
    "        self.sample_step=sample_step\n",
    "        self.max_size=max_size\n",
    "        self.style=style\n",
    "        self.content=content\n",
    "        self.tv_weight=tv_weight\n",
    "config=config()"
   ]
  },
  {
   "cell_type": "code",
   "execution_count": null,
   "metadata": {},
   "outputs": [
    {
     "name": "stdout",
     "output_type": "stream",
     "text": [
      "torch.Size([1, 3, 272, 400])\n",
      "torch.Size([1, 3, 400, 272])\n"
     ]
    }
   ],
   "source": [
    "# Load content and style images\n",
    "# Make the style image same size as the content image\n",
    "content = load_image(config.content, \n",
    "                     transform, \n",
    "                     max_size=config.max_size)\n",
    "\n",
    "style = load_image(config.style, \n",
    "                   transform, \n",
    "                   shape=[content.size(2), content.size(3)])\n",
    "print(content.shape)\n",
    "print(style.shape)"
   ]
  },
  {
   "cell_type": "code",
   "execution_count": null,
   "metadata": {},
   "outputs": [
    {
     "name": "stdout",
     "output_type": "stream",
     "text": [
      "torch.Size([1, 3, 272, 400])\n"
     ]
    }
   ],
   "source": [
    "# Initialize a target image with the content image\n",
    "target = content.clone().requires_grad_(True)\n",
    "print(target.shape)\n",
    "optimizer = torch.optim.Adam([target], lr=config.lr, betas=[0.5, 0.999])\n",
    "vgg = VGGNet().to(device).eval()"
   ]
  },
  {
   "cell_type": "code",
   "execution_count": null,
   "metadata": {},
   "outputs": [],
   "source": [
    "target_features = vgg(target)\n",
    "content_features = vgg(content)\n",
    "for step in range(config.total_step):\n",
    "        \n",
    "    # Extract multiple(5) conv feature vectors\n",
    "    style_features = vgg(style)\n",
    "\n",
    "    style_loss = 0\n",
    "    content_loss = 0\n",
    "\n",
    "    for f1, f2, f3 in zip(target_features, content_features, style_features):\n",
    "        # Compute content loss with target and content images\n",
    "        content_loss += torch.mean((f1 - f2)**2)\n",
    "\n",
    "        # Reshape convolutional feature maps\n",
    "        _, c, h, w = f1.size()\n",
    "        f1 = f1.view(c, h * w)\n",
    "        f3 = f3.view(c, h * w)\n",
    "\n",
    "        # Compute gram matrix\n",
    "        f1 = torch.mm(f1, f1.t())\n",
    "        f3 = torch.mm(f3, f3.t())\n",
    "\n",
    "        # Compute style loss with target and style images\n",
    "        style_loss += torch.mean((f1 - f3)**2) / (c * h * w) \n",
    "    # Compute total loss, backprop and optimize\n",
    "    tv_loss=((target[0, :3, 1:, :] - target[0, :, :-1, :])**2).sum() + ((target[0, :3, :, 1:] - target[0, :3, :, :-1])**2).sum()\n",
    "    loss = content_loss + config.style_weight * style_loss +config.style_weight*tv_loss\n",
    "    optimizer.zero_grad()\n",
    "    loss.backward()\n",
    "    optimizer.step()\n",
    "\n",
    "    if (step+1) % config.log_step == 0:\n",
    "        print ('Step [{}/{}], Content Loss: {:.4f}, Style Loss: {:.4f}' \n",
    "                .format(step+1, config.total_step, content_loss.item(), style_loss.item()))\n",
    "\n",
    "    if (step+1) % config.sample_step == 0:\n",
    "         # Save the generated image\n",
    "        denorm = transforms.Normalize((-2.12, -2.04, -1.80), (4.37, 4.46, 4.44))\n",
    "        img = target.clone().squeeze()\n",
    "        img = denorm(img).clamp_(0, 1)\n",
    "        torchvision.utils.save_image(img, 'output-{}.png'.format(step+1))"
   ]
  },
  {
   "cell_type": "code",
   "execution_count": null,
   "metadata": {},
   "outputs": [],
   "source": []
  }
 ],
 "metadata": {
  "kernelspec": {
   "display_name": "Python 3",
   "language": "python",
   "name": "python3"
  },
  "language_info": {
   "codemirror_mode": {
    "name": "ipython",
    "version": 3
   },
   "file_extension": ".py",
   "mimetype": "text/x-python",
   "name": "python",
   "nbconvert_exporter": "python",
   "pygments_lexer": "ipython3",
   "version": "3.7.1"
  }
 },
 "nbformat": 4,
 "nbformat_minor": 2
}
